{
 "cells": [
  {
   "cell_type": "markdown",
   "metadata": {},
   "source": [
    "# División de Ciencias e Ingenierías de la Universidad de Guanajuato\n",
    "## Fundamentos de procesamiento digital de imágenes\n",
    "## TAREA : Funciones de filtrado en frecuencia\n",
    "### Profesor : Dr. Arturo González Vega\n",
    "### Alumno : Gustavo Magaña López"
   ]
  },
  {
   "cell_type": "code",
   "execution_count": 9,
   "metadata": {},
   "outputs": [],
   "source": [
    "from typing import Tuple, List\n",
    "\n",
    "import numpy as np\n",
    "import scipy.fftpack as F\n",
    "import scipy.io as io\n",
    "\n",
    "import cv2\n",
    "import matplotlib.image as img\n",
    "\n",
    "from mpl_toolkits.mplot3d import Axes3D\n",
    "import matplotlib.pyplot as plt\n",
    "from matplotlib import cm\n",
    "\n",
    "import skimage\n",
    "import skimage.morphology\n",
    "import skimage.filters"
   ]
  },
  {
   "cell_type": "code",
   "execution_count": 52,
   "metadata": {},
   "outputs": [],
   "source": [
    "def img_fft(image: np.ndarray, shift: bool = True) -> np.ndarray:\n",
    "    \"\"\"\n",
    "        Ejecutar una Transformada de Fourier visualizable con matplotlib.pyplot.imshow() .\n",
    "        \n",
    "        Basado en un snippet encontrado en :\n",
    "        https://medium.com/@y1017c121y/python-computer-vision-tutorials-image-fourier-transform-part-2-ec9803e63993\n",
    "        \n",
    "        Parámetros :\n",
    "                image : Imagen, representada como un arreglo de numpy (numpy.ndarray)\n",
    "                shift : Booleano que indica si debe ejecutarse la traslación de la imagen e\n",
    "                        en el espacio de frecuencia.\n",
    "    \"\"\"\n",
    "    _X = cv2.dft(np.float32(image), flags=cv2.DFT_COMPLEX_OUTPUT)\n",
    "    if shift:\n",
    "        _X_shift = np.fft.fftshift(_X)\n",
    "    _X_complex = _X_shift[:,:,0] + 1j*_X_shift[:,:,1]\n",
    "    _X_abs = np.abs(_X_complex) + 1 # Evitar que el logaritmo reciba 0 como argumento.\n",
    "    _X_bounded = 20 * np.log(_X_abs)\n",
    "    _X_img = 255 * _X_bounded / np.max(_X_bounded)\n",
    "    _X_img = _X_img.astype(np.uint8)\n",
    "    \n",
    "    return _X_img\n",
    "##\n",
    "\n",
    "def fft_viz(image: np.ndarray, shift: bool = True) -> None:\n",
    "    \"\"\"\n",
    "        Ver la transformada de fourier de una imagen.\n",
    "    \"\"\"\n",
    "    plt.figure()\n",
    "    plt.imshow(img_fft(image, shift=shift), cmap='gray')\n",
    "    plt.show()\n",
    "##\n",
    "\n",
    "def pre_fft_processing(\n",
    "    image: np.ndarray,\n",
    "      top: int = None,\n",
    "   bottom: int = None, \n",
    "     left: int = None,\n",
    "    right: int = None,\n",
    "    borderType: int = None,\n",
    ") -> np.ndarray:\n",
    "    \"\"\"\n",
    "        Esta función lleva a cabo el proceso de 'padding', necesario antes \n",
    "        de aplicar un filtrado en el espacio frecuencial (de Fourier).\n",
    "        \n",
    "        Básicamente un wrapper para :\n",
    "            cv2.copyMakeBorder( image, top, bottom, left, right, borderType)\n",
    "            \n",
    "        Donde el tipo de frontera (borderType) puede ser alguno de los siguientes :\n",
    "            cv2.BORDER_CONSTANT\n",
    "            cv2.BORDER_REFLECT\n",
    "            cv2.BORDER_REFLECT_101\n",
    "            cv2.BORDER_DEFAULT\n",
    "            cv2.BORDER_REPLICATE\n",
    "            cv2.BORDER_WRAP\n",
    "        \n",
    "        Si faltan uno o más de los parámetros necesarios para llamar cv2.copyMakeBorder(), \n",
    "        se implementará un 'padding' por defecto en función de los valores calculados por\n",
    "        cv2.getOptimalDFTSize().\n",
    "        \n",
    "    ##  Parámetros :\n",
    "                image : Una imagen en blanco y negro, es decir un arreglo bidimensional de numpy.\n",
    "                  top : Número entero representando el número de pixeles que se agegarán en el margen superior.\n",
    "               bottom : idem. para el margen inferior. \n",
    "                 left : idem. para el margen izquierdo.\n",
    "                right : idem. para el margen derecho.\n",
    "           borderType : Alguno de los mencionados anteriormente en el Docstring.\n",
    "\n",
    "\n",
    "                \n",
    "    ##  Regresa :\n",
    "                nimg  : imagen con 'padding'\n",
    "    \"\"\"\n",
    "    override = all(map(lambda x: x if x != 0 else True, [top, bottom, left, right, borderType]))\n",
    "    if override:\n",
    "        nimg = cv2.copyMakeBorder(image, top, bottom, left, right, bordertype)\n",
    "    else:\n",
    "        row, cols = image.shape\n",
    "        nrows, ncols = list(map(cv2.getOptimalDFTSize, image.shape))\n",
    "        right = ncols - cols\n",
    "        bottom = nrows - rows\n",
    "        bordertype = cv2.BORDER_CONSTANT #just to avoid line breakup in PDF file\n",
    "        nimg = cv2.copyMakeBorder(image,0,bottom,0,right,bordertype, value = 0)\n",
    "    \n",
    "    return nimg\n",
    "##\n",
    "\n",
    "def fft2(\n",
    "    image: np.ndarray,       \n",
    "      top: int = None,\n",
    "   bottom: int = None, \n",
    "     left: int = None,\n",
    "    right: int = None,\n",
    "    borderType: int = None,\n",
    ") -> np.ndarray:\n",
    "    \"\"\"\n",
    "    \n",
    "    Execute:\n",
    "        x = pre_fft_processing(image, top=top, bottom=bottom, left=left, right=right, borderType=borderType)\n",
    "        return cv2.dft(np.float32(x),flags=cv2.DFT_COMPLEX_OUTPUT)\n",
    "        \n",
    "    Call the cv2's dft, which is supposed to be considerably faster than numpy's implementation.\n",
    "\n",
    "    See help(pre_fft_processing) for futher details on the preprocessing stage.\n",
    "    \n",
    "    \"\"\"\n",
    "    nimg = pre_fft_processing(image, top=top, bottom=bottom, left=left, right=right, borderType=borderType)\n",
    "    dft2 = cv2.dft(np.float32(nimg),flags=cv2.DFT_COMPLEX_OUTPUT)\n",
    "    \n",
    "    return dft2\n",
    "##\n",
    "\n",
    "def ImPotencia(image: np.ndarray) -> float:\n",
    "    \"\"\"\n",
    "        Calcula la potencia de acuerdo al teorema de Parseval.\n",
    "    \"\"\"\n",
    "    _F = np.fft.fft2(image)\n",
    "    return np.sum(np.abs(_F)**2) / np.prod(_F.shape)\n",
    "##\n",
    "\n",
    "def fourier_meshgrid(image: np.ndarray) -> Tuple[np.ndarray]:\n",
    "    \"\"\"\n",
    "        Genera los arreglos bidimensionales U y V necesarios para poder hacer tanto\n",
    "        filtrado en frecuencias como la visualización de imágenes en forma de superficies.\n",
    "        Esto se hace mapeando las intensidades a los valores que tomará la función en el eje\n",
    "        Z, dados los valores de X y Y que son las coordenadas de los pixeles.\n",
    "        \n",
    "    \n",
    "    Parámetros :\n",
    "        imagen : Arreglo bidimensional de numpy (numpy.ndarray), es decir una imagen.\n",
    "        \n",
    "    Regresa :\n",
    "        (U, V) : Tuple contieniendo dos arreglos bidimensionales de numpy (numpy.ndarray)\n",
    "    \"\"\"\n",
    "    M, N = image.shape\n",
    "    u, v = list(map(lambda x: np.arange(0, x), image.shape))\n",
    "    idx, idy = list(map(lambda x, y: np.nonzero(x > y/2), [u, v], image.shape))\n",
    "    u[idx] -= M\n",
    "    v[idy] -= N\n",
    "    V, U = np.meshgrid(v, u)\n",
    "    \n",
    "    return U, V\n",
    "##\n",
    "\n",
    "def fourier_distance(U: np.ndarray, V: np.ndarray, centered: bool = True, squared: bool = True) -> np.ndarray:\n",
    "    \"\"\"\n",
    "        Calcula la distancia euclidiana de los puntos de una malla (meshgrid), respecto al centro.\n",
    "        Por defecto desplaza el centro (distancia 0) al centro de la matriz.\n",
    "        Asimismo devuelve la distancia al cuadrado puesto que en ocaciones dicho cálculo se hace después\n",
    "        y calcular la raíz y después elevar al cuadrado sería sólo perder tiempo de cómputo.\n",
    "        \n",
    "    Parámetros :\n",
    "    \n",
    "                U : Arreglo bidimensional de numpy (numpy.ndarray). \n",
    "                V : Idem.\n",
    "         centered : Booleano indicando si se desea la distancia centrada, \n",
    "                    es decir ejecutar np.fft.fftshift(Distancia) una vez calculada\n",
    "                    la matriz de distancias. \n",
    "                        True por defecto.\n",
    "                        \n",
    "          squared : Booleano indicando si se desea la distancia al cuadrado \n",
    "                    o la distancia euclidiana clásica.\n",
    "                        True por defecto.\n",
    "    \n",
    "    Regresa :\n",
    "               _d : Matriz con las distancias euclidianas, \n",
    "                    de cada coordenada respecto al centro.\n",
    "    \"\"\"\n",
    "    _d = U**2 + V**2\n",
    "    if not squared:\n",
    "        _d = np.sqrt(_d)\n",
    "    if centered:\n",
    "        _d = np.fft.fftshift(_d)\n",
    "    \n",
    "    return _d\n",
    "##\n",
    "    \n",
    "def kernel_gaussiano(image: np.ndarray, sigma: float, kind: str = 'low') -> np.ndarray:\n",
    "    \"\"\"\n",
    "        Calcula un kernel gaussiano para una imagen dada.\n",
    "    \"\"\"\n",
    "    U, V = fourier_meshgrid(image)\n",
    "    D = fourier_distance(U, V)\n",
    "    H = np.exp( (-1.0 * D) / (2.0 * sigma**2) )\n",
    "    \n",
    "    if kind == 'high' or kind == 'highpass':\n",
    "        H = 1.0 - H\n",
    "        \n",
    "    return H\n",
    "##\n",
    "    \n",
    "def FiltraGaussiana(image: np.ndarray, sigma: float, kind: str = 'low') -> np.ndarray:\n",
    "    \"\"\"\n",
    "    \n",
    "    \"\"\"\n",
    "    kind   = kind.lower()\n",
    "    _kinds = ['low', 'high', 'lowpass', 'highpass']\n",
    "    if kind not in _kinds:\n",
    "        raise Exception(f'Error : Tipo desconocido de filtro \\\"{kind}\\\".\\n Tipos disponibles : {_kinds}')\n",
    "    \n",
    "    H  = kernel_gaussiano(image=image, sigma=sigma, kind=kind)\n",
    "    _F = np.fft.ifftshift(\n",
    "            np.fft.fft2(image)\n",
    "    )\n",
    "    G  = H * _F\n",
    "    g  = np.real( np.fft.ifft2( np.fft.ifftshift(G) ))\n",
    "    \n",
    "    # Recortamos la imagen a su tamaño original, de ser requerido.\n",
    "    g = g[:image.shape[0], :image.shape[1]]  \n",
    "        \n",
    "    return g  \n",
    "##\n",
    "\n",
    "def filtro_disco(image: np.ndarray, radius: int = 5) -> np.ndarray:\n",
    "    \"\"\"\n",
    "    \n",
    "    \"\"\"\n",
    "    _circle = skimage.morphology.disk(radius)\n",
    "    _filtered = skimage.filters.rank.mean(image, selem=_circle)\n",
    "    return _filtered\n",
    "##\n"
   ]
  },
  {
   "cell_type": "code",
   "execution_count": 44,
   "metadata": {},
   "outputs": [],
   "source": [
    "#help(cv2.copyMakeBorder)"
   ]
  },
  {
   "cell_type": "code",
   "execution_count": 51,
   "metadata": {},
   "outputs": [
    {
     "data": {
      "text/plain": [
       "tuple"
      ]
     },
     "execution_count": 51,
     "metadata": {},
     "output_type": "execute_result"
    }
   ],
   "source": [
    "x = fourier_meshgrid(I)\n",
    "type(x)"
   ]
  },
  {
   "cell_type": "code",
   "execution_count": null,
   "metadata": {},
   "outputs": [],
   "source": [
    "\"\"\"\n",
    "cv2.BORDER_CONSTANT\n",
    "            cv2.BORDER_REFLECT\n",
    "            cv2.BORDER_REFLECT_101\n",
    "            cv2.BORDER_DEFAULT\n",
    "            cv2.BORDER_REPLICATE\n",
    "            cv2.BORDER_WRAP\n",
    "\"\"\""
   ]
  },
  {
   "cell_type": "code",
   "execution_count": 5,
   "metadata": {},
   "outputs": [],
   "source": [
    "I = img.imread('imagenes/mama.tif')"
   ]
  },
  {
   "cell_type": "code",
   "execution_count": 28,
   "metadata": {},
   "outputs": [
    {
     "data": {
      "text/plain": [
       "<matplotlib.image.AxesImage at 0x1c208e87d0>"
      ]
     },
     "execution_count": 28,
     "metadata": {},
     "output_type": "execute_result"
    },
    {
     "data": {
      "image/png": "[encoded data removed]",
      "text/plain": [
       "<Figure size 432x288 with 1 Axes>"
      ]
     },
     "metadata": {
      "needs_background": "light"
     },
     "output_type": "display_data"
    }
   ],
   "source": [
    "plt.imshow(cv2.copyMakeBorder(I, 0, 0, 0, 0, borderType=cv2.BORDER_CONSTANT))"
   ]
  },
  {
   "cell_type": "code",
   "execution_count": 26,
   "metadata": {},
   "outputs": [
    {
     "name": "stdout",
     "output_type": "stream",
     "text": [
      "Test passed\n"
     ]
    }
   ],
   "source": [
    "if filter(lambda x: False if x is None else True, [True, None, cv2.BORDER_CONSTANT]):\n",
    "    print('Test passed')"
   ]
  },
  {
   "cell_type": "code",
   "execution_count": 19,
   "metadata": {},
   "outputs": [
    {
     "data": {
      "text/plain": [
       "0"
      ]
     },
     "execution_count": 19,
     "metadata": {},
     "output_type": "execute_result"
    }
   ],
   "source": [
    "cv2.BORDER_CONSTANT"
   ]
  },
  {
   "cell_type": "code",
   "execution_count": 27,
   "metadata": {},
   "outputs": [
    {
     "name": "stdout",
     "output_type": "stream",
     "text": [
      "Help on class filter in module builtins:\n",
      "\n",
      "class filter(object)\n",
      " |  filter(function or None, iterable) --> filter object\n",
      " |  \n",
      " |  Return an iterator yielding those items of iterable for which function(item)\n",
      " |  is true. If function is None, return the items that are true.\n",
      " |  \n",
      " |  Methods defined here:\n",
      " |  \n",
      " |  __getattribute__(self, name, /)\n",
      " |      Return getattr(self, name).\n",
      " |  \n",
      " |  __iter__(self, /)\n",
      " |      Implement iter(self).\n",
      " |  \n",
      " |  __next__(self, /)\n",
      " |      Implement next(self).\n",
      " |  \n",
      " |  __reduce__(...)\n",
      " |      Return state information for pickling.\n",
      " |  \n",
      " |  ----------------------------------------------------------------------\n",
      " |  Static methods defined here:\n",
      " |  \n",
      " |  __new__(*args, **kwargs) from builtins.type\n",
      " |      Create and return a new object.  See help(type) for accurate signature.\n",
      "\n"
     ]
    }
   ],
   "source": [
    "help(filter)"
   ]
  },
  {
   "cell_type": "code",
   "execution_count": 33,
   "metadata": {},
   "outputs": [
    {
     "data": {
      "text/plain": [
       "False"
      ]
     },
     "execution_count": 33,
     "metadata": {},
     "output_type": "execute_result"
    }
   ],
   "source": [
    "all( [4, 5, 0])"
   ]
  },
  {
   "cell_type": "code",
   "execution_count": 34,
   "metadata": {},
   "outputs": [
    {
     "ename": "AttributeError",
     "evalue": "'list' object has no attribute 'replace'",
     "output_type": "error",
     "traceback": [
      "\u001b[0;31m---------------------------------------------------------------------------\u001b[0m",
      "\u001b[0;31mAttributeError\u001b[0m                            Traceback (most recent call last)",
      "\u001b[0;32m<ipython-input-34-c6cf1ae63ed5>\u001b[0m in \u001b[0;36m<module>\u001b[0;34m\u001b[0m\n\u001b[0;32m----> 1\u001b[0;31m \u001b[0;34m[\u001b[0m\u001b[0;36m4\u001b[0m\u001b[0;34m,\u001b[0m \u001b[0;36m5\u001b[0m\u001b[0;34m,\u001b[0m \u001b[0;36m0\u001b[0m\u001b[0;34m]\u001b[0m\u001b[0;34m.\u001b[0m\u001b[0mreplace\u001b[0m\u001b[0;34m(\u001b[0m\u001b[0;36m0\u001b[0m\u001b[0;34m,\u001b[0m \u001b[0;36m5\u001b[0m\u001b[0;34m)\u001b[0m\u001b[0;34m\u001b[0m\u001b[0;34m\u001b[0m\u001b[0m\n\u001b[0m",
      "\u001b[0;31mAttributeError\u001b[0m: 'list' object has no attribute 'replace'"
     ]
    }
   ],
   "source": [
    "[4, 5, 0].replace(0, 5)"
   ]
  },
  {
   "cell_type": "code",
   "execution_count": 42,
   "metadata": {},
   "outputs": [
    {
     "data": {
      "text/plain": [
       "True"
      ]
     },
     "execution_count": 42,
     "metadata": {},
     "output_type": "execute_result"
    }
   ],
   "source": [
    "all(map(lambda x: x if x != 0 else True, [1, 2, 0]))"
   ]
  },
  {
   "cell_type": "code",
   "execution_count": 41,
   "metadata": {},
   "outputs": [
    {
     "data": {
      "text/plain": [
       "4"
      ]
     },
     "execution_count": 41,
     "metadata": {},
     "output_type": "execute_result"
    }
   ],
   "source": [
    "cv2.BORDER_REFLECT101\n"
   ]
  },
  {
   "cell_type": "code",
   "execution_count": null,
   "metadata": {},
   "outputs": [],
   "source": []
  }
 ],
 "metadata": {
  "kernelspec": {
   "display_name": "Python 3",
   "language": "python",
   "name": "python3"
  },
  "language_info": {
   "codemirror_mode": {
    "name": "ipython",
    "version": 3
   },
   "file_extension": ".py",
   "mimetype": "text/x-python",
   "name": "python",
   "nbconvert_exporter": "python",
   "pygments_lexer": "ipython3",
   "version": "3.7.4"
  }
 },
 "nbformat": 4,
 "nbformat_minor": 2
}
