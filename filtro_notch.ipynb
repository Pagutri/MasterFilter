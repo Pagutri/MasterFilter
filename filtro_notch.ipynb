{
 "cells": [
  {
   "cell_type": "markdown",
   "metadata": {},
   "source": [
    "2. (3 puntos) Hacer una función que diseñe filtros notch ideales, de Gauss o de Butterworth."
   ]
  },
  {
   "cell_type": "code",
   "execution_count": null,
   "metadata": {},
   "outputs": [],
   "source": [
    "def kernel_gaussiano(P, Q, sigma, pasa = 0): #Pasar a meshgrid\n",
    "    \"\"\"pasa = 0 es pasabajos. pasa = 1 es pasaaltos. No me hago responsable del resto\"\"\"\n",
    "    kernel = np.zeros((P, Q))\n",
    "    \n",
    "    for u in range(P):\n",
    "        for v in range(Q):\n",
    "            D_cuadrada = (u - 0.5 * P)**2 + (v - 0.5 * Q)**2\n",
    "            kernel[u][v] = pasa + (-1)**pasa * exp(- 0.5 * D_cuadrada / sigma**2)\n",
    "                \n",
    "    return kernel"
   ]
  },
  {
   "cell_type": "code",
   "execution_count": null,
   "metadata": {},
   "outputs": [],
   "source": [
    "def filtrar_notch(img, tipo = 0, pasa = 0, centro = (0, 0), radio = 1, d0, n = 0.0):\n",
    "    \"\"\"Filtro notch. \n",
    "    tipo = 0 para ideal, 1 para gaussiano y cualquier otro valor para butterworth.\n",
    "    pasa = 0 para notchreject, 1 para notchpass.\n",
    "    centro y radio son los del notch. notch simétrico automático.\n",
    "    Especificar n solo para butterworth\"\"\"\n",
    "    \n",
    "    P, Q = img.shape\n",
    "    \n",
    "    if tipo == 0:\n",
    "        kernel = kernel_ideal(P, Q, pasa, centro, radio, d0)\n",
    "    else if tipo == 1:\n",
    "        kernel = kernel_gaussiano(P, Q, pasa, centro, radio, d0)\n",
    "    else:\n",
    "        kernel = kernel_butterworth(P, Q, pasa, centro, radio, d0, n)\n",
    "        \n",
    "    transformada = np.fft.fftshift(np.fft.fft2(img))\n",
    "    aplico_filtro = kernel * transformada\n",
    "    img_filtrada = np.real(np.fft.ifft2(np.fft.ifftshift(aplico_filtro)))\n",
    "    \n",
    "    return img_filtrada"
   ]
  }
 ],
 "metadata": {
  "kernelspec": {
   "display_name": "Python 3",
   "language": "python",
   "name": "python3"
  },
  "language_info": {
   "codemirror_mode": {
    "name": "ipython",
    "version": 3
   },
   "file_extension": ".py",
   "mimetype": "text/x-python",
   "name": "python",
   "nbconvert_exporter": "python",
   "pygments_lexer": "ipython3",
   "version": "3.7.3"
  }
 },
 "nbformat": 4,
 "nbformat_minor": 2
}
