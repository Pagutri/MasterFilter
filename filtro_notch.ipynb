{
 "cells": [
  {
   "cell_type": "markdown",
   "metadata": {},
   "source": [
    "2. (3 puntos) Hacer una función que diseñe filtros notch ideales, de Gauss o de Butterworth."
   ]
  },
  {
   "cell_type": "code",
   "execution_count": 1,
   "metadata": {},
   "outputs": [],
   "source": [
    "import numpy as np\n",
    "import matplotlib.pyplot as plt"
   ]
  },
  {
   "cell_type": "code",
   "execution_count": 44,
   "metadata": {},
   "outputs": [],
   "source": [
    "def kernel_ideal(M, N, centro, d0):\n",
    "    u_k = centro[0]\n",
    "    v_k = centro[1]\n",
    "    u = np.arange(M)\n",
    "    v = np.arange(N)\n",
    "    U, V = np.meshgrid(u, v)\n",
    "    \n",
    "    D_k = np.square(U - 0.5 * M - u_k) + np.square(V - 0.5 * N - v_k)\n",
    "    D_mk = np.square(U - 0.5 * M + u_k) + np.square(V - 0.5 * N + v_k)\n",
    "    H_k = np.where(D_k <= d0**2, 0, 1) # Primer pasaaltos\n",
    "    H_mk = np.where(D_mk <= d0**2, 0, 1) # Segundo pasaaltos\n",
    "    kernel = H_k * H_mk\n",
    "    \n",
    "    return kernel"
   ]
  },
  {
   "cell_type": "code",
   "execution_count": 45,
   "metadata": {},
   "outputs": [],
   "source": [
    "def kernel_gaussiano(M, N, centro, d0):\n",
    "    u_k = centro[0]\n",
    "    v_k = centro[1]\n",
    "    u = np.arange(M)\n",
    "    v = np.arange(N)\n",
    "    U, V = np.meshgrid(u, v)\n",
    "    \n",
    "    D_k = np.square(U - 0.5 * M - u_k) + np.square(V - 0.5 * N - v_k)\n",
    "    D_mk = np.square(U - 0.5 * M + u_k) + np.square(V - 0.5 * N + v_k)\n",
    "    H_k = 1 - np.exp(-(0.5 / d0**2) * D_k) # Primer pasaaltos\n",
    "    H_mk = 1 - np.exp(-(0.5 / d0**2) * D_mk) # Segundo pasaaltos\n",
    "    kernel = H_k * H_mk\n",
    "    \n",
    "    return kernel"
   ]
  },
  {
   "cell_type": "code",
   "execution_count": 47,
   "metadata": {},
   "outputs": [],
   "source": [
    "ker = kernel_gaussiano(500, 500, (100, -50), 5)"
   ]
  },
  {
   "cell_type": "code",
   "execution_count": 48,
   "metadata": {},
   "outputs": [
    {
     "data": {
      "text/plain": [
       "<matplotlib.image.AxesImage at 0x7f033ae8e390>"
      ]
     },
     "execution_count": 48,
     "metadata": {},
     "output_type": "execute_result"
    },
    {
     "data": {
      "image/png": "[encoded data removed]",
      "text/plain": [
       "<Figure size 432x288 with 1 Axes>"
      ]
     },
     "metadata": {
      "needs_background": "light"
     },
     "output_type": "display_data"
    }
   ],
   "source": [
    "plt.imshow(ker, cmap = 'gray')"
   ]
  },
  {
   "cell_type": "code",
   "execution_count": null,
   "metadata": {},
   "outputs": [],
   "source": [
    "def filtrar_notch(img, d0, tipo = 0, pasa = 0, centro = (0, 0), n = 0.0):\n",
    "    \"\"\"Filtro notch. \n",
    "    tipo = 0 para ideal, 1 para gaussiano y cualquier otro valor para butterworth.\n",
    "    pasa = 0 para notchreject, 1 para notchpass.\n",
    "    centro y radio son los del notch. notch simétrico automático.\n",
    "    Especificar n solo para butterworth\"\"\"\n",
    "    \n",
    "    M, N = img.shape\n",
    "    \n",
    "    if tipo == 0:\n",
    "        kernel = kernel_ideal(M, N, pasa, centro, radio, d0)\n",
    "    else if tipo == 1:\n",
    "        kernel = kernel_gaussiano(U, V, pasa, centro, radio, d0)\n",
    "    else:\n",
    "        kernel = kernel_butterworth(U, V, pasa, centro, radio, d0, n)\n",
    "        \n",
    "    transformada = np.fft.fftshift(np.fft.fft2(img))\n",
    "    aplico_filtro = kernel * transformada\n",
    "    img_filtrada = np.real(np.fft.ifft2(np.fft.ifftshift(aplico_filtro)))\n",
    "    \n",
    "    return img_filtrada"
   ]
  }
 ],
 "metadata": {
  "kernelspec": {
   "display_name": "Python 3",
   "language": "python",
   "name": "python3"
  },
  "language_info": {
   "codemirror_mode": {
    "name": "ipython",
    "version": 3
   },
   "file_extension": ".py",
   "mimetype": "text/x-python",
   "name": "python",
   "nbconvert_exporter": "python",
   "pygments_lexer": "ipython3",
   "version": "3.7.3"
  }
 },
 "nbformat": 4,
 "nbformat_minor": 2
}
